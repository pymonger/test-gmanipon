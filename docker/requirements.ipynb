{
 "cells": [
  {
   "cell_type": "markdown",
   "id": "scientific-spread",
   "metadata": {},
   "source": [
    "## Installing requirements using the yum package manager"
   ]
  },
  {
   "cell_type": "markdown",
   "id": "solar-prefix",
   "metadata": {},
   "source": [
    "The following cell shows an example of installing requirements/dependencies using the yum package manager. Modify it according to your requirements. If you have no requirements that need to be installed via yum, it can be ignored."
   ]
  },
  {
   "cell_type": "code",
   "execution_count": 1,
   "id": "alleged-remedy",
   "metadata": {},
   "outputs": [
    {
     "name": "stdout",
     "output_type": "stream",
     "text": [
      "Loaded plugins: fastestmirror, ovl\n",
      "Determining fastest mirrors\n",
      " * base: mirrors.xmission.com\n",
      " * extras: linux.mirrors.es.net\n",
      " * updates: mirrors.oit.uci.edu\n",
      "Resolving Dependencies\n",
      "--> Running transaction check\n",
      "---> Package epel-release.noarch 0:7-11 will be installed\n",
      "--> Finished Dependency Resolution\n",
      "\n",
      "Dependencies Resolved\n",
      "\n",
      "================================================================================\n",
      " Package                Arch             Version         Repository        Size\n",
      "================================================================================\n",
      "Installing:\n",
      " epel-release           noarch           7-11            extras            15 k\n",
      "\n",
      "Transaction Summary\n",
      "================================================================================\n",
      "Install  1 Package\n",
      "\n",
      "Total download size: 15 k\n",
      "Installed size: 24 k\n",
      "Downloading packages:\n",
      "Running transaction check\n",
      "Running transaction test\n",
      "Transaction test succeeded\n",
      "Running transaction\n",
      "  Installing : epel-release-7-11.noarch                                     1/1 \n",
      "  Verifying  : epel-release-7-11.noarch                                     1/1 \n",
      "\n",
      "Installed:\n",
      "  epel-release.noarch 0:7-11                                                    \n",
      "\n",
      "Complete!\n",
      "Loaded plugins: fastestmirror, ovl\n",
      "Loading mirror speeds from cached hostfile\n",
      " * base: mirrors.xmission.com\n",
      " * epel: mirror.prgmr.com\n",
      " * extras: linux.mirrors.es.net\n",
      " * updates: mirrors.oit.uci.edu\n",
      "Resolving Dependencies\n",
      "--> Running transaction check\n",
      "---> Package htop.x86_64 0:2.2.0-3.el7 will be installed\n",
      "--> Finished Dependency Resolution\n",
      "\n",
      "Dependencies Resolved\n",
      "\n",
      "================================================================================\n",
      " Package         Arch              Version                Repository       Size\n",
      "================================================================================\n",
      "Installing:\n",
      " htop            x86_64            2.2.0-3.el7            epel            103 k\n",
      "\n",
      "Transaction Summary\n",
      "================================================================================\n",
      "Install  1 Package\n",
      "\n",
      "Total download size: 103 k\n",
      "Installed size: 218 k\n",
      "Downloading packages:\n",
      "Public key for htop-2.2.0-3.el7.x86_64.rpm is not installed\n",
      "Retrieving key from file:///etc/pki/rpm-gpg/RPM-GPG-KEY-EPEL-7\n",
      "Running transaction check\n",
      "Running transaction test\n",
      "Transaction test succeeded\n",
      "Running transaction\n",
      "  Installing : htop-2.2.0-3.el7.x86_64                                      1/1 \n",
      "  Verifying  : htop-2.2.0-3.el7.x86_64                                      1/1 \n",
      "\n",
      "Installed:\n",
      "  htop.x86_64 0:2.2.0-3.el7                                                     \n",
      "\n",
      "Complete!\n"
     ]
    },
    {
     "name": "stderr",
     "output_type": "stream",
     "text": [
      "Warning: RPMDB altered outside of yum.\n",
      "** Found 14 pre-existing rpmdb problem(s), 'yum check' output follows:\n",
      "isce3-0.2.0-1.x86_64 has missing requires of libfftw3.so.3()(64bit)\n",
      "isce3-0.2.0-1.x86_64 has missing requires of libfftw3_threads.so.3()(64bit)\n",
      "isce3-0.2.0-1.x86_64 has missing requires of libfftw3f.so.3()(64bit)\n",
      "isce3-0.2.0-1.x86_64 has missing requires of libfftw3f_threads.so.3()(64bit)\n",
      "isce3-0.2.0-1.x86_64 has missing requires of libgdal.so.28()(64bit)\n",
      "isce3-0.2.0-1.x86_64 has missing requires of libhdf5.so.103()(64bit)\n",
      "isce3-0.2.0-1.x86_64 has missing requires of libhdf5_cpp.so.103()(64bit)\n",
      "isce3-0.2.0-1.x86_64 has missing requires of libjournal.so()(64bit)\n",
      "isce3-0.2.0-1.x86_64 has missing requires of libpyre.so()(64bit)\n",
      "isce3-0.2.0-1.x86_64 has missing requires of libstdc++.so.6(CXXABI_1.3.11)(64bit)\n",
      "isce3-0.2.0-1.x86_64 has missing requires of libstdc++.so.6(CXXABI_1.3.8)(64bit)\n",
      "isce3-0.2.0-1.x86_64 has missing requires of libstdc++.so.6(CXXABI_1.3.9)(64bit)\n",
      "isce3-0.2.0-1.x86_64 has missing requires of libstdc++.so.6(GLIBCXX_3.4.20)(64bit)\n",
      "isce3-0.2.0-1.x86_64 has missing requires of libstdc++.so.6(GLIBCXX_3.4.21)(64bit)\n",
      "warning: /var/cache/yum/x86_64/7/epel/packages/htop-2.2.0-3.el7.x86_64.rpm: Header V3 RSA/SHA256 Signature, key ID 352c64e5: NOKEY\n",
      "Importing GPG key 0x352C64E5:\n",
      " Userid     : \"Fedora EPEL (7) <epel@fedoraproject.org>\"\n",
      " Fingerprint: 91e9 7d7c 4a5e 96f1 7f3e 888f 6a2f aea2 352c 64e5\n",
      " Package    : epel-release-7-11.noarch (@extras)\n",
      " From       : /etc/pki/rpm-gpg/RPM-GPG-KEY-EPEL-7\n"
     ]
    }
   ],
   "source": [
    "%%bash\n",
    "sudo yum install epel-release -y\n",
    "#sudo yum install <package> -y\n",
    "sudo yum install htop -y"
   ]
  },
  {
   "cell_type": "markdown",
   "id": "tropical-updating",
   "metadata": {},
   "source": [
    "## Installing requirements using the conda package manager"
   ]
  },
  {
   "cell_type": "markdown",
   "id": "royal-investing",
   "metadata": {},
   "source": [
    "The following cell shows an example of installing requirements/dependencies using the conda package manager. Modify it according to your requirements. If you have no requirements that need to be installed via conda, it can be ignored."
   ]
  },
  {
   "cell_type": "code",
   "execution_count": 2,
   "id": "divided-single",
   "metadata": {},
   "outputs": [
    {
     "name": "stdout",
     "output_type": "stream",
     "text": [
      "Collecting package metadata (current_repodata.json): ...working... done\n",
      "Solving environment: ...working... done\n",
      "\n",
      "# All requested packages already installed.\n",
      "\n"
     ]
    }
   ],
   "source": [
    "%%bash\n",
    "#sudo conda install <package> -y\n",
    "sudo conda install gdal -y"
   ]
  },
  {
   "cell_type": "markdown",
   "id": "advised-terrorism",
   "metadata": {},
   "source": [
    "## Installing requirements using pip"
   ]
  },
  {
   "cell_type": "markdown",
   "id": "democratic-match",
   "metadata": {},
   "source": [
    "The following cell shows an example of installing requirements/dependencies using the pip package manager. Modify it according to your requirements. If you have no requirements that need to be installed via pip, it can be ignored."
   ]
  },
  {
   "cell_type": "code",
   "execution_count": 3,
   "id": "closing-subdivision",
   "metadata": {},
   "outputs": [
    {
     "name": "stdout",
     "output_type": "stream",
     "text": [
      "Collecting emoji\n",
      "  Downloading emoji-1.2.0-py3-none-any.whl (131 kB)\n",
      "Installing collected packages: emoji\n",
      "Successfully installed emoji-1.2.0\n"
     ]
    }
   ],
   "source": [
    "%%bash\n",
    "#sudo pip install <package>\n",
    "sudo pip install emoji"
   ]
  },
  {
   "cell_type": "code",
   "execution_count": null,
   "id": "2a048397",
   "metadata": {},
   "outputs": [],
   "source": []
  }
 ],
 "metadata": {
  "kernelspec": {
   "display_name": "Python 3",
   "language": "python",
   "name": "python3"
  },
  "language_info": {
   "codemirror_mode": {
    "name": "ipython",
    "version": 3
   },
   "file_extension": ".py",
   "mimetype": "text/x-python",
   "name": "python",
   "nbconvert_exporter": "python",
   "pygments_lexer": "ipython3",
   "version": "3.9.2"
  }
 },
 "nbformat": 4,
 "nbformat_minor": 5
}
